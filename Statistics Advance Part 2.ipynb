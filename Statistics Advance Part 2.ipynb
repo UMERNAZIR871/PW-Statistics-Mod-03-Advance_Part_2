{
 "cells": [
  {
   "cell_type": "markdown",
   "id": "c331992b-5a61-4675-88d7-5bcaa2aff1b9",
   "metadata": {},
   "source": [
    "# Statistics Advance Part 2"
   ]
  },
  {
   "cell_type": "markdown",
   "id": "0a94e3ae-a0cc-4c65-8780-5a56babe3fdf",
   "metadata": {},
   "source": [
    "#     Theory Section"
   ]
  },
  {
   "cell_type": "markdown",
   "id": "629d2a00-5919-487a-817f-30696298e3bb",
   "metadata": {},
   "source": [
    "**Q 1.   What is a random variable in probability theory?**"
   ]
  },
  {
   "cell_type": "markdown",
   "id": "de056e73-3a0e-4d03-bd63-2b16d1d52c80",
   "metadata": {},
   "source": [
    "**Ans.** A **random variable** is a function that assigns a **numerical value** to each possible outcome in a **probability experiment**.\n",
    "\n",
    "### 📌 Key Points:\n",
    "\n",
    "- It **quantifies outcomes** of a random process (e.g., coin flips, dice rolls).\n",
    "- It is called \"random\" because the value it takes depends on **chance**.\n",
    "- It allows us to use **mathematics and statistics** to describe uncertainty.\n",
    "\n",
    "---\n",
    "\n",
    "### 🔄 Types of Random Variables:\n",
    "\n",
    "1. **Discrete Random Variable**  \n",
    "   - Takes **countable** values  \n",
    "   - Example: Number of heads in 5 coin tosses → {0, 1, 2, 3, 4, 5}\n",
    "\n",
    "2. **Continuous Random Variable)**  \n",
    "   - Takes **uncountably infinite** values in a range  \n",
    "   - Example: Temperature in a city → could be 26.1°C, 26.12°C, etc.\n",
    "\n",
    "---\n",
    "\n",
    "### 🧮 Example:\n",
    "\n",
    "- Let $( X $) be the number shown when you roll a die  \n",
    "- Possible values: $( X \\in \\{1, 2, 3, 4, 5, 6\\} $)  \n",
    "- $( X $) is a **discrete random variable**\n",
    "--- "
   ]
  },
  {
   "cell_type": "markdown",
   "id": "037cf1c3-aef0-470c-b81b-c44c2dff787d",
   "metadata": {},
   "source": [
    "**Q 2.  What is the null hypothesis, and how does it differ from the alternative hypothesis?**"
   ]
  },
  {
   "cell_type": "markdown",
   "id": "95e39134-a2f3-4f51-8dfa-fad684ab45d9",
   "metadata": {},
   "source": [
    "**Ans.**"
   ]
  },
  {
   "cell_type": "markdown",
   "id": "4444f893-d879-4158-8bbc-5b1c306bbe30",
   "metadata": {},
   "source": [
    "In **statistical hypothesis testing**, we test two opposing ideas:\n",
    "\n",
    "### 📌 **Null Hypothesis (H₀)**\n",
    "\n",
    "- The **default assumption** that there is **no effect**, **no difference**, or **no relationship**.\n",
    "- It represents the idea of \"no change\" or \"status quo\".\n",
    "\n",
    "**Example:**  \n",
    "> H₀: The new drug has no effect on blood pressure.\n",
    "\n",
    "---\n",
    "\n",
    "### 📌 **Alternative Hypothesis (H₁ or Ha)**\n",
    "\n",
    "- The **claim** we want to test or support.\n",
    "- It suggests there **is** an effect, difference, or relationship.\n",
    "\n",
    "**Example:**  \n",
    "> H₁: The new drug **reduces** blood pressure.\n",
    "\n",
    "---\n",
    "\n",
    "### 🔄 Key Differences\n",
    "\n",
    "| Feature                | Null Hypothesis (H₀)            | Alternative Hypothesis (H₁)         |\n",
    "|------------------------|----------------------------------|--------------------------------------|\n",
    "| Assumes               | No effect / No difference       | There is an effect / difference      |\n",
    "| Purpose               | To be tested and possibly rejected | To be supported if H₀ is rejected |\n",
    "| Outcome               | Retained unless evidence disproves it | Accepted when H₀ is rejected    |\n",
    "| Symbol                | H₀                              | H₁ or Ha                             |\n"
   ]
  },
  {
   "cell_type": "markdown",
   "id": "2b068228-8e89-4fde-96d0-437c5ee06c37",
   "metadata": {},
   "source": [
    "**Q 3.  What is the significance level in hypothesis testing, and why is it important?**"
   ]
  },
  {
   "cell_type": "markdown",
   "id": "e0cff4f4-719c-424b-9db8-8cd2e7672aa1",
   "metadata": {},
   "source": [
    "**Ans.** The **significance level**, denoted by **α (alpha)**, is a **threshold** used in hypothesis testing to determine whether to **reject the null hypothesis (H₀)**.\n",
    "\n",
    "---\n",
    "\n",
    "### 📌 Definition:\n",
    "\n",
    "- The **significance level** is the **maximum probability of making a Type I error** — rejecting a true null hypothesis.\n",
    "\n",
    "-  Common values are:  \n",
    "  - $ \\alpha = 0.05 $ (5%)  \n",
    "  - $ \\alpha = 0.01 $ (1%)  \n",
    "  - $ \\alpha = 0.10 $ (10%)  \n",
    "\n",
    "---\n",
    "\n",
    "### 🔍 Why Is It Important?\n",
    "\n",
    "1. **Controls False Positives**:  \n",
    "   Limits the chance of **incorrectly rejecting H₀** when it is actually true.\n",
    "\n",
    "2. **Sets the Decision Boundary**:  \n",
    "   It's the cutoff for the **p-value** comparison:  \n",
    "   - If **p-value ≤ α**, reject H₀  \n",
    "   - If **p-value > α**, fail to reject H₀\n",
    "\n",
    "3. **Balances Risk and Sensitivity**:  \n",
    "   - A **lower α** reduces false positives but increases false negatives (Type II error risk).  \n",
    "   - A **higher α** makes it easier to detect effects but increases false positives.\n",
    "\n",
    "---"
   ]
  },
  {
   "cell_type": "markdown",
   "id": "2af8e0a7-8a28-45fa-bee6-8df9cf3a2ee5",
   "metadata": {},
   "source": [
    "**Q 4.  What does a P-value represent in hypothesis testing?**"
   ]
  },
  {
   "cell_type": "markdown",
   "id": "a7dfbf94-6b08-49e4-add9-791444a05526",
   "metadata": {},
   "source": [
    "**Ans.** A **P-value** is the **probability** of observing your data, or something more extreme, **assuming that the null hypothesis (H₀) is true**.\n",
    "\n",
    "**📌 *Interpretation*:**\n",
    "\n",
    "- A **small P-value** (typically ≤ 0.05) → **strong evidence against H₀** → **reject H₀**  \n",
    "- A **large P-value** (> 0.05) → **weak evidence against H₀** → **fail to reject H₀**\n"
   ]
  },
  {
   "cell_type": "markdown",
   "id": "9e8bb1de-00b0-4f8e-8d0d-d752dac95764",
   "metadata": {},
   "source": [
    "**Q 5.  How do you interpret the P-value in hypothesis testing?** "
   ]
  },
  {
   "cell_type": "markdown",
   "id": "3eafef8c-be36-4783-8876-0dd450efcc5b",
   "metadata": {},
   "source": [
    "**Ans.** The **P-value** tells you the likelihood of obtaining your observed results (or more extreme) **assuming the null hypothesis is true**.\n",
    "\n",
    "### 📌 Interpretation Guide:\n",
    "\n",
    "- **P-value ≤ α** → **Reject the null hypothesis (H₀)**  \n",
    "  → The result is **statistically significant**\n",
    "\n",
    "- **P-value > α** → **Fail to reject the null hypothesis**  \n",
    "  → Not enough evidence to claim a significant effect\n",
    "\n",
    "Where  $ ( \\alpha )$ is the **significance level**, commonly 0.05.\n"
   ]
  },
  {
   "cell_type": "markdown",
   "id": "d804e38f-861a-4389-a9ed-fb74912e1fde",
   "metadata": {},
   "source": [
    "**Q 6. What are Type 1 and Type 2 errors in hypothesis testing?**"
   ]
  },
  {
   "cell_type": "markdown",
   "id": "86dda703-f1ad-46a3-8c4b-895fb63d820e",
   "metadata": {},
   "source": [
    "**Ans.** In hypothesis testing, errors can occur when making a decision about the null hypothesis $( H_0 )$.\n",
    "\n",
    "### **Type I Error (False Positive)**\n",
    "\n",
    "- **Definition**: Rejecting the null hypothesis $( H_0 $) when it is actually **true**.\n",
    "- **Symbol**: $ ( \\alpha $) (alpha), also known as the **significance level**.\n",
    "- **Example**: Concluding a medicine is effective when it actually isn't.\n",
    "\n",
    "> 🧠 Think of it as: **\"Crying wolf\" when there is no wolf.**\n",
    "\n",
    "---\n",
    "\n",
    "### **Type II Error (False Negative)**\n",
    "\n",
    "- **Definition**: Failing to reject the null hypothesis $( H_0 $) when it is actually **false**.\n",
    "- **Symbol**: $( \\beta $) (beta).\n",
    "- **Example**: Concluding a medicine is ineffective when it actually works.\n",
    "\n",
    "> 🧠 Think of it as: **\"Missing the wolf\" when the wolf is really there.**\n",
    "\n",
    "---\n",
    "\n",
    "### **Summary Table**\n",
    "\n",
    "|                          | **Null is True $( H_0 $)** | **Null is False $( H_0 $)** |\n",
    "|--------------------------|------------------------------|-------------------------------|\n",
    "| **Reject $( H_0 )$**     | Type I Error $( \\alpha )$  | ✅ Correct Decision            |\n",
    "| **Fail to Reject $( H_0 )$** | ✅ Correct Decision         | Type II Error $( \\beta )$   |"
   ]
  },
  {
   "cell_type": "code",
   "execution_count": null,
   "id": "e5131761-2cf7-4591-8a6f-17fa608098c5",
   "metadata": {},
   "outputs": [],
   "source": []
  },
  {
   "cell_type": "code",
   "execution_count": null,
   "id": "0af8e589-883e-4927-9f4c-711805786010",
   "metadata": {},
   "outputs": [],
   "source": []
  },
  {
   "cell_type": "code",
   "execution_count": null,
   "id": "a8e44375-4024-4837-909e-f8f2c2e2b8bb",
   "metadata": {},
   "outputs": [],
   "source": []
  },
  {
   "cell_type": "code",
   "execution_count": null,
   "id": "acd8734b-9ced-4eef-ae84-12f751ee11d9",
   "metadata": {},
   "outputs": [],
   "source": []
  },
  {
   "cell_type": "code",
   "execution_count": null,
   "id": "23a3f6e7-e842-451e-bafd-6693384f97a7",
   "metadata": {},
   "outputs": [],
   "source": []
  },
  {
   "cell_type": "code",
   "execution_count": null,
   "id": "2854d46e-784a-4b13-af69-7676773e7995",
   "metadata": {},
   "outputs": [],
   "source": []
  },
  {
   "cell_type": "code",
   "execution_count": null,
   "id": "f01f8891-a083-4c78-bd99-2f5d8867482b",
   "metadata": {},
   "outputs": [],
   "source": []
  }
 ],
 "metadata": {
  "kernelspec": {
   "display_name": "Python 3 (ipykernel)",
   "language": "python",
   "name": "python3"
  },
  "language_info": {
   "codemirror_mode": {
    "name": "ipython",
    "version": 3
   },
   "file_extension": ".py",
   "mimetype": "text/x-python",
   "name": "python",
   "nbconvert_exporter": "python",
   "pygments_lexer": "ipython3",
   "version": "3.13.3"
  }
 },
 "nbformat": 4,
 "nbformat_minor": 5
}
