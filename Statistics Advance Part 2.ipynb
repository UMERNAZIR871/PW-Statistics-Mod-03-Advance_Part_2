{
 "cells": [
  {
   "cell_type": "markdown",
   "id": "c331992b-5a61-4675-88d7-5bcaa2aff1b9",
   "metadata": {},
   "source": [
    "# Statistics Advance Part 2"
   ]
  },
  {
   "cell_type": "markdown",
   "id": "0a94e3ae-a0cc-4c65-8780-5a56babe3fdf",
   "metadata": {},
   "source": [
    "#     Theory Section"
   ]
  },
  {
   "cell_type": "markdown",
   "id": "629d2a00-5919-487a-817f-30696298e3bb",
   "metadata": {},
   "source": [
    "**Q 1.   What is a random variable in probability theory?**"
   ]
  },
  {
   "cell_type": "markdown",
   "id": "de056e73-3a0e-4d03-bd63-2b16d1d52c80",
   "metadata": {},
   "source": [
    "**Ans.** A **random variable** is a function that assigns a **numerical value** to each possible outcome in a **probability experiment**.\n",
    "\n",
    "### 📌 Key Points:\n",
    "\n",
    "- It **quantifies outcomes** of a random process (e.g., coin flips, dice rolls).\n",
    "- It is called \"random\" because the value it takes depends on **chance**.\n",
    "- It allows us to use **mathematics and statistics** to describe uncertainty.\n",
    "\n",
    "---\n",
    "\n",
    "### 🔄 Types of Random Variables:\n",
    "\n",
    "1. **Discrete Random Variable**  \n",
    "   - Takes **countable** values  \n",
    "   - Example: Number of heads in 5 coin tosses → {0, 1, 2, 3, 4, 5}\n",
    "\n",
    "2. **Continuous Random Variable)**  \n",
    "   - Takes **uncountably infinite** values in a range  \n",
    "   - Example: Temperature in a city → could be 26.1°C, 26.12°C, etc.\n",
    "\n",
    "---\n",
    "\n",
    "### 🧮 Example:\n",
    "\n",
    "- Let $( X $) be the number shown when you roll a die  \n",
    "- Possible values: $( X \\in \\{1, 2, 3, 4, 5, 6\\} $)  \n",
    "- $( X $) is a **discrete random variable**\n",
    "--- "
   ]
  },
  {
   "cell_type": "markdown",
   "id": "037cf1c3-aef0-470c-b81b-c44c2dff787d",
   "metadata": {},
   "source": [
    "**Q 2.  What is the null hypothesis, and how does it differ from the alternative hypothesis?**"
   ]
  },
  {
   "cell_type": "markdown",
   "id": "95e39134-a2f3-4f51-8dfa-fad684ab45d9",
   "metadata": {},
   "source": [
    "**Ans.**"
   ]
  },
  {
   "cell_type": "markdown",
   "id": "4444f893-d879-4158-8bbc-5b1c306bbe30",
   "metadata": {},
   "source": [
    "In **statistical hypothesis testing**, we test two opposing ideas:\n",
    "\n",
    "### 📌 **Null Hypothesis (H₀)**\n",
    "\n",
    "- The **default assumption** that there is **no effect**, **no difference**, or **no relationship**.\n",
    "- It represents the idea of \"no change\" or \"status quo\".\n",
    "\n",
    "**Example:**  \n",
    "> H₀: The new drug has no effect on blood pressure.\n",
    "\n",
    "---\n",
    "\n",
    "### 📌 **Alternative Hypothesis (H₁ or Ha)**\n",
    "\n",
    "- The **claim** we want to test or support.\n",
    "- It suggests there **is** an effect, difference, or relationship.\n",
    "\n",
    "**Example:**  \n",
    "> H₁: The new drug **reduces** blood pressure.\n",
    "\n",
    "---\n",
    "\n",
    "### 🔄 Key Differences\n",
    "\n",
    "| Feature                | Null Hypothesis (H₀)            | Alternative Hypothesis (H₁)         |\n",
    "|------------------------|----------------------------------|--------------------------------------|\n",
    "| Assumes               | No effect / No difference       | There is an effect / difference      |\n",
    "| Purpose               | To be tested and possibly rejected | To be supported if H₀ is rejected |\n",
    "| Outcome               | Retained unless evidence disproves it | Accepted when H₀ is rejected    |\n",
    "| Symbol                | H₀                              | H₁ or Ha                             |\n",
    "\n",
    "---"
   ]
  },
  {
   "cell_type": "markdown",
   "id": "2b068228-8e89-4fde-96d0-437c5ee06c37",
   "metadata": {},
   "source": [
    "**Q 3.  What is the significance level in hypothesis testing, and why is it important?**"
   ]
  },
  {
   "cell_type": "markdown",
   "id": "e0cff4f4-719c-424b-9db8-8cd2e7672aa1",
   "metadata": {},
   "source": [
    "**Ans.** The **significance level**, denoted by **α (alpha)**, is a **threshold** used in hypothesis testing to determine whether to **reject the null hypothesis (H₀)**.\n",
    "\n",
    "---\n",
    "\n",
    "### 📌 Definition:\n",
    "\n",
    "- The **significance level** is the **maximum probability of making a Type I error** — rejecting a true null hypothesis.\n",
    "\n",
    "-  Common values are:  \n",
    "  - $ \\alpha = 0.05 $ (5%)  \n",
    "  - $ \\alpha = 0.01 $ (1%)  \n",
    "  - $ \\alpha = 0.10 $ (10%)  \n",
    "\n",
    "---\n",
    "\n",
    "### 🔍 Why Is It Important?\n",
    "\n",
    "1. **Controls False Positives**:  \n",
    "   Limits the chance of **incorrectly rejecting H₀** when it is actually true.\n",
    "\n",
    "2. **Sets the Decision Boundary**:  \n",
    "   It's the cutoff for the **p-value** comparison:  \n",
    "   - If **p-value ≤ α**, reject H₀  \n",
    "   - If **p-value > α**, fail to reject H₀\n",
    "\n",
    "3. **Balances Risk and Sensitivity**:  \n",
    "   - A **lower α** reduces false positives but increases false negatives (Type II error risk).  \n",
    "   - A **higher α** makes it easier to detect effects but increases false positives.\n",
    "\n",
    "---"
   ]
  },
  {
   "cell_type": "markdown",
   "id": "2af8e0a7-8a28-45fa-bee6-8df9cf3a2ee5",
   "metadata": {},
   "source": [
    "**Q 4.  What does a P-value represent in hypothesis testing?**"
   ]
  },
  {
   "cell_type": "markdown",
   "id": "a7dfbf94-6b08-49e4-add9-791444a05526",
   "metadata": {},
   "source": [
    "**Ans.** A **P-value** is the **probability** of observing your data, or something more extreme, **assuming that the null hypothesis (H₀) is true**.\n",
    "\n",
    "**📌 *Interpretation*:**\n",
    "\n",
    "- A **small P-value** (typically ≤ 0.05) → **strong evidence against H₀** → **reject H₀**  \n",
    "- A **large P-value** (> 0.05) → **weak evidence against H₀** → **fail to reject H₀**\n",
    "---"
   ]
  },
  {
   "cell_type": "markdown",
   "id": "9e8bb1de-00b0-4f8e-8d0d-d752dac95764",
   "metadata": {},
   "source": [
    "**Q 5.  How do you interpret the P-value in hypothesis testing?** "
   ]
  },
  {
   "cell_type": "markdown",
   "id": "3eafef8c-be36-4783-8876-0dd450efcc5b",
   "metadata": {},
   "source": [
    "**Ans.** The **P-value** tells you the likelihood of obtaining your observed results (or more extreme) **assuming the null hypothesis is true**.\n",
    "\n",
    "### 📌 Interpretation Guide:\n",
    "\n",
    "- **P-value ≤ α** → **Reject the null hypothesis (H₀)**  \n",
    "  → The result is **statistically significant**\n",
    "\n",
    "- **P-value > α** → **Fail to reject the null hypothesis**  \n",
    "  → Not enough evidence to claim a significant effect\n",
    "\n",
    "Where  $ ( \\alpha )$ is the **significance level**, commonly 0.05.\n"
   ]
  },
  {
   "cell_type": "markdown",
   "id": "d804e38f-861a-4389-a9ed-fb74912e1fde",
   "metadata": {},
   "source": [
    "**Q 6. What are Type 1 and Type 2 errors in hypothesis testing?**"
   ]
  },
  {
   "cell_type": "markdown",
   "id": "86dda703-f1ad-46a3-8c4b-895fb63d820e",
   "metadata": {},
   "source": [
    "**Ans.** In hypothesis testing, errors can occur when making a decision about the null hypothesis $( H_0 )$.\n",
    "\n",
    "### **Type I Error (False Positive)**\n",
    "\n",
    "- **Definition**: Rejecting the null hypothesis $( H_0 $) when it is actually **true**.\n",
    "- **Symbol**: $ ( \\alpha $) (alpha), also known as the **significance level**.\n",
    "- **Example**: Concluding a medicine is effective when it actually isn't.\n",
    "\n",
    "> 🧠 Think of it as: **\"Crying wolf\" when there is no wolf.**\n",
    "\n",
    "---\n",
    "\n",
    "### **Type II Error (False Negative)**\n",
    "\n",
    "- **Definition**: Failing to reject the null hypothesis $( H_0 $) when it is actually **false**.\n",
    "- **Symbol**: $( \\beta $) (beta).\n",
    "- **Example**: Concluding a medicine is ineffective when it actually works.\n",
    "\n",
    "> 🧠 Think of it as: **\"Missing the wolf\" when the wolf is really there.**\n",
    "\n",
    "---\n",
    "\n",
    "### **Summary Table**\n",
    "\n",
    "|                          | **Null is True $( H_0 $)** | **Null is False $( H_0 $)** |\n",
    "|--------------------------|------------------------------|-------------------------------|\n",
    "| **Reject $( H_0 )$**     | Type I Error $( \\alpha )$  | ✅ Correct Decision            |\n",
    "| **Fail to Reject $( H_0 )$** | ✅ Correct Decision         | Type II Error $( \\beta )$   |\n",
    "\n",
    "---"
   ]
  },
  {
   "cell_type": "markdown",
   "id": "f786ac3c-a8b2-4f52-b0b4-90d5101affa9",
   "metadata": {},
   "source": [
    "**Q 7.  What is the difference between a one-tailed and a two-tailed test in hypothesis testing?**"
   ]
  },
  {
   "cell_type": "markdown",
   "id": "a4d59c4b-3818-4535-b928-6f73285360f6",
   "metadata": {},
   "source": [
    "**Ans.** In hypothesis testing, the **type of test** (one-tailed or two-tailed) depends on the research question and how the alternative hypothesis is defined.\n",
    "\n",
    "---\n",
    "\n",
    "### ✅ One-Tailed Test\n",
    "\n",
    "- **Definition**: Tests whether a population parameter is **greater than** or **less than** a specified value.\n",
    "- **Direction**: Only **one direction** (either left or right tail) is considered.\n",
    "- **Hypotheses**:\n",
    "  - Null hypothesis: $H_0: \\mu = \\mu_0$\n",
    "  - Alternative hypothesis (right-tailed): $H_1: \\mu > \\mu_0$\n",
    "  - Alternative hypothesis (left-tailed): $H_1: \\mu < \\mu_0$\n",
    "- **When to Use**: If you are only interested in detecting an **increase or decrease**, not both.\n",
    "\n",
    "> 📌 Example: Testing if a new drug **increases** recovery rate compared to the standard.\n",
    "\n",
    "---\n",
    "\n",
    "### ✅ Two-Tailed Test\n",
    "\n",
    "- **Definition**: Tests whether a population parameter is **different** (either higher or lower) than a specified value.\n",
    "- **Direction**: Considers **both directions** (both tails).\n",
    "- **Hypotheses**:\n",
    "  - Null hypothesis: $H_0: \\mu = \\mu_0$\n",
    "  - Alternative hypothesis: $H_1: \\mu \\ne \\mu_0$\n",
    "- **When to Use**: If you are testing for **any significant difference**, not just in one direction.\n",
    "\n",
    "> 📌 Example: Testing if a new drug has **any effect** (better or worse) on recovery rate.\n",
    "\n",
    "---\n",
    "\n",
    "### 📊 Summary Table\n",
    "\n",
    "| Test Type     | Direction Tested         | Alternative Hypothesis         | Critical Region Location         |\n",
    "|---------------|--------------------------|---------------------------------|----------------------------------|\n",
    "| **One-Tailed**| One side (left or right) | $H_1: \\mu > \\mu_0$ or $H_1: \\mu < \\mu_0$ | Left or right tail only          |\n",
    "| **Two-Tailed**| Both sides               | $H_1: \\mu \\ne \\mu_0$             | Both tails (split $\\alpha/2$)    |\n",
    "\n",
    "---\n",
    "\n",
    "### 🎯 Key Note:\n",
    "- A **one-tailed test** has more power to detect an effect in one direction.\n",
    "- A **two-tailed test** is more **conservative** and used when the direction of effect is not specified in advance.\n"
   ]
  },
  {
   "cell_type": "markdown",
   "id": "91960062-a7fe-4b24-a66b-f213ac2bef17",
   "metadata": {},
   "source": [
    "**Q 8.  What is the Z-test, and when is it used in hypothesis testing?**"
   ]
  },
  {
   "cell_type": "markdown",
   "id": "976b2714-5855-42bf-af65-6bfb0973ceeb",
   "metadata": {},
   "source": [
    "**Abns.** A **Z-test** is a type of statistical hypothesis test used to determine whether there is a significant difference between:\n",
    "\n",
    "- A sample mean and a population mean, or  \n",
    "- Two sample means, or  \n",
    "- Sample and population proportions,\n",
    "\n",
    "**when the population standard deviation is known** and/or the **sample size is large**.\n",
    "\n",
    "---\n",
    "\n",
    "### ✅ When to Use a Z-test:\n",
    "\n",
    "Use a Z-test when the following conditions are met:\n",
    "\n",
    "1. The sample size is large: $n \\ge 30$\n",
    "2. The population standard deviation $\\sigma$ is known\n",
    "3. The data is approximately normally distributed (or $n$ is large enough for normal approximation)\n",
    "4. The data is quantitative and observations are independent\n",
    "\n",
    "---\n",
    "\n",
    "### 🔍 Common Types of Z-tests\n",
    "\n",
    "| **Z-test Type**             | **Use Case**                                                  |\n",
    "|----------------------------|---------------------------------------------------------------|\n",
    "| One-sample Z-test          | Compare a sample mean to a known population mean              |\n",
    "| Two-sample Z-test          | Compare the means of two independent samples                  |\n",
    "| Z-test for proportions     | Compare a sample proportion to a known population proportion  |\n",
    "\n",
    "---\n",
    "\n",
    "### 🧠 Example:\n",
    "\n",
    "You want to test if the average height of students in a college differs from the national average of 170 cm, assuming $\\sigma$ is known.\n",
    "\n",
    "- Null hypothesis: $H_0: \\mu = 170$\n",
    "- Alternative hypothesis: $H_1: \\mu \\ne 170$\n",
    "\n",
    "Since $\\sigma$ is known and $n \\ge 30$, you would use a **two-tailed Z-test**.\n",
    "\n",
    "---\n",
    "\n",
    "### 🔑 Key Formula (One-Sample Z-test):\n",
    "\n",
    "$$\n",
    "Z = \\frac{\\bar{x} - \\mu}{\\sigma / \\sqrt{n}}\n",
    "$$\n",
    "\n",
    "Where:\n",
    "\n",
    "- $\\bar{x}$ = sample mean  \n",
    "- $\\mu$ = population mean  \n",
    "- $\\sigma$ = population standard deviation  \n",
    "- $n$ = sample size\n"
   ]
  },
  {
   "cell_type": "code",
   "execution_count": null,
   "id": "23a3f6e7-e842-451e-bafd-6693384f97a7",
   "metadata": {},
   "outputs": [],
   "source": []
  },
  {
   "cell_type": "code",
   "execution_count": null,
   "id": "2854d46e-784a-4b13-af69-7676773e7995",
   "metadata": {},
   "outputs": [],
   "source": []
  },
  {
   "cell_type": "code",
   "execution_count": null,
   "id": "f01f8891-a083-4c78-bd99-2f5d8867482b",
   "metadata": {},
   "outputs": [],
   "source": []
  }
 ],
 "metadata": {
  "kernelspec": {
   "display_name": "Python 3 (ipykernel)",
   "language": "python",
   "name": "python3"
  },
  "language_info": {
   "codemirror_mode": {
    "name": "ipython",
    "version": 3
   },
   "file_extension": ".py",
   "mimetype": "text/x-python",
   "name": "python",
   "nbconvert_exporter": "python",
   "pygments_lexer": "ipython3",
   "version": "3.13.3"
  }
 },
 "nbformat": 4,
 "nbformat_minor": 5
}
