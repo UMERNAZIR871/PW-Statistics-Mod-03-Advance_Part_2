{
 "cells": [
  {
   "cell_type": "markdown",
   "id": "c331992b-5a61-4675-88d7-5bcaa2aff1b9",
   "metadata": {},
   "source": [
    "# Statistics Advance Part 2"
   ]
  },
  {
   "cell_type": "markdown",
   "id": "0a94e3ae-a0cc-4c65-8780-5a56babe3fdf",
   "metadata": {},
   "source": [
    "#     Theory Section"
   ]
  },
  {
   "cell_type": "markdown",
   "id": "629d2a00-5919-487a-817f-30696298e3bb",
   "metadata": {},
   "source": [
    "**Q 1.   What is a random variable in probability theory?**"
   ]
  },
  {
   "cell_type": "markdown",
   "id": "de056e73-3a0e-4d03-bd63-2b16d1d52c80",
   "metadata": {},
   "source": [
    "**Ans.** A **random variable** is a function that assigns a **numerical value** to each possible outcome in a **probability experiment**.\n",
    "\n",
    "### 📌 Key Points:\n",
    "\n",
    "- It **quantifies outcomes** of a random process (e.g., coin flips, dice rolls).\n",
    "- It is called \"random\" because the value it takes depends on **chance**.\n",
    "- It allows us to use **mathematics and statistics** to describe uncertainty.\n",
    "\n",
    "---\n",
    "\n",
    "### 🔄 Types of Random Variables:\n",
    "\n",
    "1. **Discrete Random Variable**  \n",
    "   - Takes **countable** values  \n",
    "   - Example: Number of heads in 5 coin tosses → {0, 1, 2, 3, 4, 5}\n",
    "\n",
    "2. **Continuous Random Variable)**  \n",
    "   - Takes **uncountably infinite** values in a range  \n",
    "   - Example: Temperature in a city → could be 26.1°C, 26.12°C, etc.\n",
    "\n",
    "---\n",
    "\n",
    "### 🧮 Example:\n",
    "\n",
    "- Let \\( X \\) be the number shown when you roll a die  \n",
    "- Possible values: \\( X \\in \\{1, 2, 3, 4, 5, 6\\} \\)  \n",
    "- \\( X \\) is a **discrete random variable**\n",
    "--- "
   ]
  },
  {
   "cell_type": "markdown",
   "id": "037cf1c3-aef0-470c-b81b-c44c2dff787d",
   "metadata": {},
   "source": [
    "**Q 2.  What is the null hypothesis, and how does it differ from the alternative hypothesis?**"
   ]
  },
  {
   "cell_type": "markdown",
   "id": "95e39134-a2f3-4f51-8dfa-fad684ab45d9",
   "metadata": {},
   "source": [
    "**Ans.**"
   ]
  },
  {
   "cell_type": "markdown",
   "id": "4444f893-d879-4158-8bbc-5b1c306bbe30",
   "metadata": {},
   "source": [
    "In **statistical hypothesis testing**, we test two opposing ideas:\n",
    "\n",
    "### 📌 **Null Hypothesis (H₀)**\n",
    "\n",
    "- The **default assumption** that there is **no effect**, **no difference**, or **no relationship**.\n",
    "- It represents the idea of \"no change\" or \"status quo\".\n",
    "\n",
    "**Example:**  \n",
    "> H₀: The new drug has no effect on blood pressure.\n",
    "\n",
    "---\n",
    "\n",
    "### 📌 **Alternative Hypothesis (H₁ or Ha)**\n",
    "\n",
    "- The **claim** we want to test or support.\n",
    "- It suggests there **is** an effect, difference, or relationship.\n",
    "\n",
    "**Example:**  \n",
    "> H₁: The new drug **reduces** blood pressure.\n",
    "\n",
    "---\n",
    "\n",
    "### 🔄 Key Differences\n",
    "\n",
    "| Feature                | Null Hypothesis (H₀)            | Alternative Hypothesis (H₁)         |\n",
    "|------------------------|----------------------------------|--------------------------------------|\n",
    "| Assumes               | No effect / No difference       | There is an effect / difference      |\n",
    "| Purpose               | To be tested and possibly rejected | To be supported if H₀ is rejected |\n",
    "| Outcome               | Retained unless evidence disproves it | Accepted when H₀ is rejected    |\n",
    "| Symbol                | H₀                              | H₁ or Ha                             |\n"
   ]
  },
  {
   "cell_type": "markdown",
   "id": "2b068228-8e89-4fde-96d0-437c5ee06c37",
   "metadata": {},
   "source": [
    "**Q 3.  What is the significance level in hypothesis testing, and why is it important?**"
   ]
  },
  {
   "cell_type": "markdown",
   "id": "e0cff4f4-719c-424b-9db8-8cd2e7672aa1",
   "metadata": {},
   "source": [
    "**Ans.** The **significance level**, denoted by **α (alpha)**, is a **threshold** used in hypothesis testing to determine whether to **reject the null hypothesis (H₀)**.\n",
    "\n",
    "---\n",
    "\n",
    "### 📌 Definition:\n",
    "\n",
    "- The **significance level** is the **maximum probability of making a Type I error** — rejecting a true null hypothesis.\n",
    "- Common values are:  \n",
    "  - \\( \\alpha = 0.05 \\) (5%)  \n",
    "  - \\( \\alpha = 0.01 \\) (1%)  \n",
    "  - \\( \\alpha = 0.10 \\) (10%)\n",
    "\n",
    "---\n",
    "\n",
    "### 🔍 Why Is It Important?\n",
    "\n",
    "1. **Controls False Positives**:  \n",
    "   Limits the chance of **incorrectly rejecting H₀** when it is actually true.\n",
    "\n",
    "2. **Sets the Decision Boundary**:  \n",
    "   It's the cutoff for the **p-value** comparison:  \n",
    "   - If **p-value ≤ α**, reject H₀  \n",
    "   - If **p-value > α**, fail to reject H₀\n",
    "\n",
    "3. **Balances Risk and Sensitivity**:  \n",
    "   - A **lower α** reduces false positives but increases false negatives (Type II error risk).  \n",
    "   - A **higher α** makes it easier to detect effects but increases false positives.\n",
    "\n",
    "---"
   ]
  }
 ],
 "metadata": {
  "kernelspec": {
   "display_name": "Python 3 (ipykernel)",
   "language": "python",
   "name": "python3"
  },
  "language_info": {
   "codemirror_mode": {
    "name": "ipython",
    "version": 3
   },
   "file_extension": ".py",
   "mimetype": "text/x-python",
   "name": "python",
   "nbconvert_exporter": "python",
   "pygments_lexer": "ipython3",
   "version": "3.13.3"
  }
 },
 "nbformat": 4,
 "nbformat_minor": 5
}
