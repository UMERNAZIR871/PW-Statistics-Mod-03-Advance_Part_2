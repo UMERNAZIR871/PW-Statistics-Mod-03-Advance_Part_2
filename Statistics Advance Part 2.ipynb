{
 "cells": [
  {
   "cell_type": "markdown",
   "id": "c331992b-5a61-4675-88d7-5bcaa2aff1b9",
   "metadata": {},
   "source": [
    "# Statistics Advance Part 2"
   ]
  },
  {
   "cell_type": "markdown",
   "id": "0a94e3ae-a0cc-4c65-8780-5a56babe3fdf",
   "metadata": {},
   "source": [
    "#     Theory Section"
   ]
  },
  {
   "cell_type": "markdown",
   "id": "629d2a00-5919-487a-817f-30696298e3bb",
   "metadata": {},
   "source": [
    "**Q 1.   What is a random variable in probability theory?**"
   ]
  },
  {
   "cell_type": "markdown",
   "id": "de056e73-3a0e-4d03-bd63-2b16d1d52c80",
   "metadata": {},
   "source": [
    "**Ans.** A **random variable** is a function that assigns a **numerical value** to each possible outcome in a **probability experiment**.\n",
    "\n",
    "---\n",
    "\n",
    "### 📌 Key Points:\n",
    "\n",
    "- It **quantifies outcomes** of a random process (e.g., coin flips, dice rolls).\n",
    "- It is called \"random\" because the value it takes depends on **chance**.\n",
    "- It allows us to use **mathematics and statistics** to describe uncertainty.\n",
    "\n",
    "---\n",
    "\n",
    "### 🔄 Types of Random Variables:\n",
    "\n",
    "1. **[Discrete Random Variable](w)**  \n",
    "   - Takes **countable** values  \n",
    "   - Example: Number of heads in 5 coin tosses → {0, 1, 2, 3, 4, 5}\n",
    "\n",
    "2. **[Continuous Random Variable](w)**  \n",
    "   - Takes **uncountably infinite** values in a range  \n",
    "   - Example: Temperature in a city → could be 26.1°C, 26.12°C, etc.\n",
    "\n",
    "---\n",
    "\n",
    "### 🧮 Example:\n",
    "\n",
    "- Let \\( X \\) be the number shown when you roll a die  \n",
    "- Possible values: \\( X \\in \\{1, 2, 3, 4, 5, 6\\} \\)  \n",
    "- \\( X \\) is a **discrete random variable**\n",
    "\n",
    "---\n",
    "\n",
    "### 🔍 In Summary:\n",
    "\n",
    "> A **random variable** turns uncertain outcomes into numbers so that we can analyze and compute **probabilities**, **averages**, and **distributions**.\n"
   ]
  }
 ],
 "metadata": {
  "kernelspec": {
   "display_name": "Python 3 (ipykernel)",
   "language": "python",
   "name": "python3"
  },
  "language_info": {
   "codemirror_mode": {
    "name": "ipython",
    "version": 3
   },
   "file_extension": ".py",
   "mimetype": "text/x-python",
   "name": "python",
   "nbconvert_exporter": "python",
   "pygments_lexer": "ipython3",
   "version": "3.13.3"
  }
 },
 "nbformat": 4,
 "nbformat_minor": 5
}
